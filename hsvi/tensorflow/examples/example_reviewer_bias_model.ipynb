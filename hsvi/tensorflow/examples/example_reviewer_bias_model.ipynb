{
 "cells": [
  {
   "cell_type": "code",
   "execution_count": 1,
   "metadata": {},
   "outputs": [],
   "source": [
    "import numpy as np\n",
    "import scipy as sp\n",
    "import pandas as pd\n",
    "from sys import path\n",
    "import tensorflow as tf\n",
    "tf.compat.v1.logging.set_verbosity(tf.compat.v1.logging.ERROR)"
   ]
  },
  {
   "cell_type": "code",
   "execution_count": 2,
   "metadata": {},
   "outputs": [],
   "source": [
    "from hsvi.tensorflow import Hierarchy_SVI\n",
    "from hsvi.tensorflow.distributions import Gamma, Normal,TransformedDistribution,Bernoulli"
   ]
  },
  {
   "cell_type": "code",
   "execution_count": 3,
   "metadata": {},
   "outputs": [],
   "source": [
    "ds = tf.contrib.distributions"
   ]
  },
  {
   "cell_type": "code",
   "execution_count": 4,
   "metadata": {},
   "outputs": [],
   "source": [
    "def simulator(N,M,T,r_per_p):\n",
    "    reviews = pd.DataFrame(columns=['pid','rid','score'])\n",
    "    pid = np.arange(N)\n",
    "    reviews.pid = np.repeat(pid,r_per_p) # paper id of each review\n",
    "    reviews.rid = np.random.choice(M,size=r_per_p*N) # reviewer id of each review\n",
    "    #reviews.score = np.random.choice(np.arange(1,T+1),size=R)  #score \n",
    "\n",
    "    quality = np.random.normal(T/2+1,1., size=N)\n",
    "    bias = np.random.normal(loc=0.,scale=0.5,size=[M,1])\n",
    "    theta0 = np.array(np.arange(T)+1,ndmin=2,dtype=np.float32)\n",
    "    theta0 = np.repeat(theta0,M,axis=0)\n",
    "\n",
    "    delta = np.repeat(quality[reviews.pid].reshape(-1,1), T,axis=1) - (theta0 + np.repeat(bias,T,axis=1))[reviews.rid]\n",
    "\n",
    "    y = (delta >= 0).astype(np.float32)\n",
    "\n",
    "    reviews.score = y.sum(axis=1)\n",
    "    return quality, bias, y, reviews"
   ]
  },
  {
   "cell_type": "code",
   "execution_count": 5,
   "metadata": {},
   "outputs": [],
   "source": [
    "data_type = 'simulation' ## can be simulation or file"
   ]
  },
  {
   "cell_type": "markdown",
   "metadata": {},
   "source": [
    "## Load and preprocess data"
   ]
  },
  {
   "cell_type": "code",
   "execution_count": 6,
   "metadata": {},
   "outputs": [],
   "source": [
    "if data_type == 'simulation':\n",
    "    N = 2000 # number of papers\n",
    "    M = 100  # number of reviewers\n",
    "    T = 4   # number of score levels\n",
    "    r_per_p = 4 # number of reviews per submission\n",
    "    true_quality, true_bias, y_data, reviews = simulator(N,M,T,r_per_p)\n",
    "    id_map = pd.DataFrame(index=reviews.pid)\n",
    "    id_map['id'] = reviews.pid.values\n",
    "    y_data = y_data.transpose()\n",
    "else:\n",
    "    data = pd.read_csv('./review_data.csv')\n",
    "    ### form each entry as paper ID, reviewer ID, and score given by the reviewer to the paper ###\n",
    "    reviews = pd.DataFrame(columns=['pid','rid','score'])\n",
    "    reviews.pid = np.repeat(data.PaperID.values,2)\n",
    "    for s in data.PaperID.values:\n",
    "        reviews.loc[reviews.pid==s,'rid'] = data.loc[data.PaperID==s,['Rev1ID','Rev2ID']].values\n",
    "        reviews.loc[reviews.pid==s,'score'] = data.loc[data.PaperID==s,['Rev1Score','Rev2Score']].values\n",
    "\n",
    "    ### transform paper ID and reviewer ID to numbers ###\n",
    "    reviews.pid = reviews.pid.map(lambda x: int(x[1:])-1)\n",
    "    reviews.rid = reviews.rid.map(lambda x: int(x[1:])-1)\n",
    "    ### generate mapping from pid to concecutive ID ###\n",
    "    pid = data.PaperID.map(lambda x: int(x[1:])-1)\n",
    "    id_map = pd.DataFrame(index=pid)\n",
    "    id_map['id'] = data.index.values\n",
    "    \n",
    "    ### define hyper-parameters according to the data set ###\n",
    "    N = data.shape[0] #number of papers\n",
    "    R = reviews.shape[0] #number of reviews\n",
    "    M = len(reviews.rid.unique()) #number of reviewers\n",
    "    T = reviews.score.values.max() #number of score levels\n",
    "    r_per_p = 2 # number of reviews per submission\n",
    "    \n",
    "    ### generate ovservations of y ###\n",
    "    y_data = np.ones((R,T))*np.arange(T)+1\n",
    "    y_data = (y_data <= reviews.score.values.reshape(-1,1)).astype(dtype=np.int32)\n",
    "    y_data = y_data.transpose()\n"
   ]
  },
  {
   "cell_type": "code",
   "execution_count": 7,
   "metadata": {},
   "outputs": [],
   "source": [
    "niter = 3000 # number of training iterations\n",
    "local_iter = 1 # number of local iterations"
   ]
  },
  {
   "cell_type": "markdown",
   "metadata": {},
   "source": [
    "## Define the Reviewer-Bias IRT model"
   ]
  },
  {
   "cell_type": "code",
   "execution_count": 8,
   "metadata": {},
   "outputs": [],
   "source": [
    "p_bias = Normal(0.,1.) # prior of bias\n",
    "m = reviews.score.mean().astype(np.float32) # empirical mean of score level \n",
    "p_quality = Normal(loc=m,scale=2.,sample_shape=[N]) # prior mean set to empirical mean\n",
    "\n",
    "theta0 = np.array(np.arange(T)+1,ndmin=2,dtype=np.float32)\n",
    "theta0= np.repeat(theta0,M,axis=0)\n",
    "\n",
    "if data_type == 'simulation':\n",
    "    idx = reviews.pid.values\n",
    "else:\n",
    "    idx = id_map.loc[reviews.pid.values,'id'].values\n",
    "\n",
    "with tf.variable_scope('reviewer'):\n",
    "    q_bias = Normal(loc=tf.Variable(tf.random_normal([M],0.,0.2)),scale=tf.nn.softplus(tf.Variable(tf.ones([M])))) # posterior of bias\n",
    "    theta = Normal(loc=tf.transpose(theta0)+q_bias,scale=1.) # generate theta by bias\n",
    "with tf.variable_scope('paper'):\n",
    "    #idx = id_map.loc[reviews.pid.values,'id'].values\n",
    "    q_quality = Normal(loc=tf.Variable(p_quality),scale=tf.nn.softplus(tf.Variable(tf.ones_like(p_quality))),name='qquality') # posterior of quality\n",
    "    score_quality = tf.gather(q_quality,idx) # quality to each paper \n",
    "    \n",
    "roft = tf.gather(tf.transpose(theta.loc),reviews.rid.values)\n",
    "d = Normal(score_quality-tf.transpose(roft), tf.sqrt(tf.square(theta.scale)+tf.square(tf.gather(q_quality.scale,idx))))\n",
    "y = Bernoulli(1.-d.cdf(0.))"
   ]
  },
  {
   "cell_type": "code",
   "execution_count": null,
   "metadata": {},
   "outputs": [],
   "source": []
  },
  {
   "cell_type": "markdown",
   "metadata": {},
   "source": [
    "## Define inference method for the model"
   ]
  },
  {
   "cell_type": "code",
   "execution_count": 9,
   "metadata": {},
   "outputs": [
    {
     "name": "stdout",
     "output_type": "stream",
     "text": [
      "start init hsvi\n",
      "reviewer KLqp\n",
      "paper KLqp\n",
      "config optimizer in scope reviewer\n",
      "config optimizer in scope paper\n"
     ]
    }
   ],
   "source": [
    "inference = Hierarchy_SVI(latent_vars={'reviewer':{p_bias:q_bias},'paper':{p_quality:q_quality}},data={'reviewer':{y:y_data},'paper':{y:y_data}},train_size=N*r_per_p)"
   ]
  },
  {
   "cell_type": "markdown",
   "metadata": {},
   "source": [
    "## Training process"
   ]
  },
  {
   "cell_type": "code",
   "execution_count": 10,
   "metadata": {
    "scrolled": true
   },
   "outputs": [
    {
     "name": "stdout",
     "output_type": "stream",
     "text": [
      "0.6331052\n",
      "0.6095075\n",
      "0.6047498\n",
      "0.60610044\n",
      "0.60532326\n",
      "0.6044391\n",
      "0.6059532\n"
     ]
    }
   ],
   "source": [
    "sess = tf.Session(config=tf.ConfigProto(allow_soft_placement=True))\n",
    "tf.global_variables_initializer().run(session=sess)\n",
    "for _ in range(niter):\n",
    "        \n",
    "    for __ in range(local_iter):\n",
    "        info_dict = inference.update(scope='paper',sess=sess)\n",
    "    info_dict = inference.update(scope='reviewer',sess=sess)\n",
    "    if (_+1)%500==0 or _==0:\n",
    "        print(info_dict['loss'])"
   ]
  },
  {
   "cell_type": "markdown",
   "metadata": {},
   "source": [
    "## Check results"
   ]
  },
  {
   "cell_type": "code",
   "execution_count": 11,
   "metadata": {},
   "outputs": [
    {
     "data": {
      "text/html": [
       "<div>\n",
       "<style scoped>\n",
       "    .dataframe tbody tr th:only-of-type {\n",
       "        vertical-align: middle;\n",
       "    }\n",
       "\n",
       "    .dataframe tbody tr th {\n",
       "        vertical-align: top;\n",
       "    }\n",
       "\n",
       "    .dataframe thead th {\n",
       "        text-align: right;\n",
       "    }\n",
       "</style>\n",
       "<table border=\"1\" class=\"dataframe\">\n",
       "  <thead>\n",
       "    <tr style=\"text-align: right;\">\n",
       "      <th></th>\n",
       "      <th>RVID</th>\n",
       "      <th>bias</th>\n",
       "      <th>true_bias</th>\n",
       "    </tr>\n",
       "  </thead>\n",
       "  <tbody>\n",
       "    <tr>\n",
       "      <th>0</th>\n",
       "      <td>0</td>\n",
       "      <td>-0.874883</td>\n",
       "      <td>-0.570505</td>\n",
       "    </tr>\n",
       "    <tr>\n",
       "      <th>1</th>\n",
       "      <td>1</td>\n",
       "      <td>0.442532</td>\n",
       "      <td>0.221209</td>\n",
       "    </tr>\n",
       "    <tr>\n",
       "      <th>2</th>\n",
       "      <td>2</td>\n",
       "      <td>0.850857</td>\n",
       "      <td>0.597326</td>\n",
       "    </tr>\n",
       "    <tr>\n",
       "      <th>3</th>\n",
       "      <td>3</td>\n",
       "      <td>1.406914</td>\n",
       "      <td>0.977837</td>\n",
       "    </tr>\n",
       "    <tr>\n",
       "      <th>4</th>\n",
       "      <td>4</td>\n",
       "      <td>-1.127512</td>\n",
       "      <td>-0.881207</td>\n",
       "    </tr>\n",
       "    <tr>\n",
       "      <th>...</th>\n",
       "      <td>...</td>\n",
       "      <td>...</td>\n",
       "      <td>...</td>\n",
       "    </tr>\n",
       "    <tr>\n",
       "      <th>95</th>\n",
       "      <td>95</td>\n",
       "      <td>0.488256</td>\n",
       "      <td>0.397564</td>\n",
       "    </tr>\n",
       "    <tr>\n",
       "      <th>96</th>\n",
       "      <td>96</td>\n",
       "      <td>-0.303279</td>\n",
       "      <td>0.068354</td>\n",
       "    </tr>\n",
       "    <tr>\n",
       "      <th>97</th>\n",
       "      <td>97</td>\n",
       "      <td>-0.061103</td>\n",
       "      <td>-0.067042</td>\n",
       "    </tr>\n",
       "    <tr>\n",
       "      <th>98</th>\n",
       "      <td>98</td>\n",
       "      <td>-0.745966</td>\n",
       "      <td>-0.252379</td>\n",
       "    </tr>\n",
       "    <tr>\n",
       "      <th>99</th>\n",
       "      <td>99</td>\n",
       "      <td>-0.435605</td>\n",
       "      <td>-0.369534</td>\n",
       "    </tr>\n",
       "  </tbody>\n",
       "</table>\n",
       "<p>100 rows × 3 columns</p>\n",
       "</div>"
      ],
      "text/plain": [
       "    RVID      bias  true_bias\n",
       "0      0 -0.874883  -0.570505\n",
       "1      1  0.442532   0.221209\n",
       "2      2  0.850857   0.597326\n",
       "3      3  1.406914   0.977837\n",
       "4      4 -1.127512  -0.881207\n",
       "..   ...       ...        ...\n",
       "95    95  0.488256   0.397564\n",
       "96    96 -0.303279   0.068354\n",
       "97    97 -0.061103  -0.067042\n",
       "98    98 -0.745966  -0.252379\n",
       "99    99 -0.435605  -0.369534\n",
       "\n",
       "[100 rows x 3 columns]"
      ]
     },
     "execution_count": 11,
     "metadata": {},
     "output_type": "execute_result"
    }
   ],
   "source": [
    "### inferred bias of each reviewer ###\n",
    "rbias = sess.run(q_bias.loc)\n",
    "rb = pd.DataFrame(columns=['RVID','bias'])\n",
    "rb.RVID = np.arange(M)\n",
    "rb.bias = rbias\n",
    "if data_type == 'simulation':\n",
    "    rb['true_bias'] = true_bias\n",
    "rb"
   ]
  },
  {
   "cell_type": "code",
   "execution_count": 12,
   "metadata": {},
   "outputs": [
    {
     "data": {
      "text/html": [
       "<div>\n",
       "<style scoped>\n",
       "    .dataframe tbody tr th:only-of-type {\n",
       "        vertical-align: middle;\n",
       "    }\n",
       "\n",
       "    .dataframe tbody tr th {\n",
       "        vertical-align: top;\n",
       "    }\n",
       "\n",
       "    .dataframe thead th {\n",
       "        text-align: right;\n",
       "    }\n",
       "</style>\n",
       "<table border=\"1\" class=\"dataframe\">\n",
       "  <thead>\n",
       "    <tr style=\"text-align: right;\">\n",
       "      <th></th>\n",
       "      <th>PID</th>\n",
       "      <th>quality</th>\n",
       "      <th>true_quality</th>\n",
       "      <th>avg_score</th>\n",
       "    </tr>\n",
       "  </thead>\n",
       "  <tbody>\n",
       "    <tr>\n",
       "      <th>0</th>\n",
       "      <td>0</td>\n",
       "      <td>2.835375</td>\n",
       "      <td>3.523021</td>\n",
       "      <td>3.00</td>\n",
       "    </tr>\n",
       "    <tr>\n",
       "      <th>1</th>\n",
       "      <td>1</td>\n",
       "      <td>2.168483</td>\n",
       "      <td>2.088381</td>\n",
       "      <td>1.50</td>\n",
       "    </tr>\n",
       "    <tr>\n",
       "      <th>2</th>\n",
       "      <td>2</td>\n",
       "      <td>2.347447</td>\n",
       "      <td>2.486145</td>\n",
       "      <td>1.75</td>\n",
       "    </tr>\n",
       "    <tr>\n",
       "      <th>3</th>\n",
       "      <td>3</td>\n",
       "      <td>1.520859</td>\n",
       "      <td>0.610126</td>\n",
       "      <td>0.25</td>\n",
       "    </tr>\n",
       "    <tr>\n",
       "      <th>4</th>\n",
       "      <td>4</td>\n",
       "      <td>3.207958</td>\n",
       "      <td>4.661201</td>\n",
       "      <td>3.75</td>\n",
       "    </tr>\n",
       "  </tbody>\n",
       "</table>\n",
       "</div>"
      ],
      "text/plain": [
       "   PID   quality  true_quality  avg_score\n",
       "0    0  2.835375      3.523021       3.00\n",
       "1    1  2.168483      2.088381       1.50\n",
       "2    2  2.347447      2.486145       1.75\n",
       "3    3  1.520859      0.610126       0.25\n",
       "4    4  3.207958      4.661201       3.75"
      ]
     },
     "execution_count": 12,
     "metadata": {},
     "output_type": "execute_result"
    }
   ],
   "source": [
    "### inferred quality of papers ###\n",
    "quality=sess.run(q_quality.loc)\n",
    "if data_type == 'simulation':\n",
    "    qlt = pd.DataFrame(columns=['PID','quality','true_quality'])\n",
    "    qlt.PID = np.arange(N)\n",
    "    qlt.true_quality = true_quality\n",
    "else:\n",
    "    qlt = pd.DataFrame(columns=['PID','quality','avg_score'])\n",
    "    qlt.PID = id_map.index.values\n",
    "qlt.quality = quality\n",
    "### compare the quality with average score ###\n",
    "for i in qlt.PID:\n",
    "    qlt.loc[qlt.PID==i,'avg_score'] = reviews.loc[reviews.pid==i,'score'].mean()\n",
    "\n",
    "qlt.head()"
   ]
  },
  {
   "cell_type": "code",
   "execution_count": null,
   "metadata": {},
   "outputs": [],
   "source": []
  }
 ],
 "metadata": {
  "kernelspec": {
   "display_name": "p36env",
   "language": "python",
   "name": "p36env"
  },
  "language_info": {
   "codemirror_mode": {
    "name": "ipython",
    "version": 3
   },
   "file_extension": ".py",
   "mimetype": "text/x-python",
   "name": "python",
   "nbconvert_exporter": "python",
   "pygments_lexer": "ipython3",
   "version": "3.6.6"
  }
 },
 "nbformat": 4,
 "nbformat_minor": 2
}

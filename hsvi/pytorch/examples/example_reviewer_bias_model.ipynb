{
 "cells": [
  {
   "cell_type": "code",
   "execution_count": 1,
   "metadata": {},
   "outputs": [],
   "source": [
    "import numpy as np\n",
    "import scipy as sp\n",
    "import pandas as pd\n",
    "from sys import path\n",
    "import torch"
   ]
  },
  {
   "cell_type": "code",
   "execution_count": 2,
   "metadata": {},
   "outputs": [],
   "source": [
    "from hsvi.pytorch import Hierarchy_SVI\n",
    "from torch.distributions import Normal, Bernoulli"
   ]
  },
  {
   "cell_type": "code",
   "execution_count": 3,
   "metadata": {},
   "outputs": [
    {
     "data": {
      "text/plain": [
       "<torch.autograd.anomaly_mode.set_detect_anomaly at 0x7fd790d36630>"
      ]
     },
     "execution_count": 3,
     "metadata": {},
     "output_type": "execute_result"
    }
   ],
   "source": [
    "torch.autograd.set_detect_anomaly(True)"
   ]
  },
  {
   "cell_type": "code",
   "execution_count": 4,
   "metadata": {},
   "outputs": [
    {
     "data": {
      "text/plain": [
       "<torch._C.Generator at 0x7fd790d0b378>"
      ]
     },
     "execution_count": 4,
     "metadata": {},
     "output_type": "execute_result"
    }
   ],
   "source": [
    "torch.random.manual_seed(0)"
   ]
  },
  {
   "cell_type": "code",
   "execution_count": 5,
   "metadata": {},
   "outputs": [],
   "source": [
    "def softplus(x):\n",
    "    return torch.log(torch.exp(x)+1.)"
   ]
  },
  {
   "cell_type": "code",
   "execution_count": 6,
   "metadata": {},
   "outputs": [],
   "source": [
    "def simulator(N,M,T,r_per_p):\n",
    "    reviews = pd.DataFrame(columns=['pid','rid','score'])\n",
    "    pid = np.arange(N)\n",
    "    reviews.pid = np.repeat(pid,r_per_p) # paper id of each review\n",
    "    reviews.rid = np.random.choice(M,size=r_per_p*N) # reviewer id of each review\n",
    "    #reviews.score = np.random.choice(np.arange(1,T+1),size=R)  #score \n",
    "\n",
    "    quality = np.random.normal(T/2+1,1., size=N)\n",
    "    bias = np.random.normal(loc=0.,scale=0.5,size=[M,1])\n",
    "    theta0 = np.array(np.arange(T)+1,ndmin=2,dtype=np.float32)\n",
    "    theta0 = np.repeat(theta0,M,axis=0)\n",
    "\n",
    "    delta = np.repeat(quality[reviews.pid].reshape(-1,1), T,axis=1) - (theta0 + np.repeat(bias,T,axis=1))[reviews.rid]\n",
    "\n",
    "    y = (delta >= 0).astype(np.float32)\n",
    "\n",
    "    reviews.score = y.sum(axis=1)\n",
    "    return quality, bias, y, reviews\n",
    "    "
   ]
  },
  {
   "cell_type": "code",
   "execution_count": 7,
   "metadata": {},
   "outputs": [],
   "source": [
    "data_type = 'file' ## can be simulation or file"
   ]
  },
  {
   "cell_type": "markdown",
   "metadata": {},
   "source": [
    "## Load and preprocess data"
   ]
  },
  {
   "cell_type": "code",
   "execution_count": 8,
   "metadata": {},
   "outputs": [],
   "source": [
    "if data_type == 'simulation':\n",
    "    N = 2000 # number of papers\n",
    "    M = 100  # number of reviewers\n",
    "    T = 4   # number of score levels\n",
    "    r_per_p = 4 # number of reviews per submission\n",
    "    true_quality, true_bias, y_data, reviews = simulator(N,M,T,r_per_p)\n",
    "    id_map = pd.DataFrame(index=reviews.pid)\n",
    "    id_map['id'] = reviews.pid.values\n",
    "    y_data = torch.from_numpy(y_data.transpose())\n",
    "else:\n",
    "    data = pd.read_csv('./review_data.csv')\n",
    "    ### form each entry as paper ID, reviewer ID, and score given by the reviewer to the paper ###\n",
    "    reviews = pd.DataFrame(columns=['pid','rid','score'])\n",
    "    reviews.pid = np.repeat(data.PaperID.values,2)\n",
    "    for s in data.PaperID.values:\n",
    "        reviews.loc[reviews.pid==s,'rid'] = data.loc[data.PaperID==s,['Rev1ID','Rev2ID']].values\n",
    "        reviews.loc[reviews.pid==s,'score'] = data.loc[data.PaperID==s,['Rev1Score','Rev2Score']].values\n",
    "\n",
    "    ### transform paper ID and reviewer ID to numbers ###\n",
    "    reviews.pid = reviews.pid.map(lambda x: int(x[1:])-1)\n",
    "    reviews.rid = reviews.rid.map(lambda x: int(x[1:])-1)\n",
    "    \n",
    "    ### generate mapping from pid to concecutive ID ###\n",
    "    pid = data.PaperID.map(lambda x: int(x[1:])-1)\n",
    "    id_map = pd.DataFrame(index=pid)\n",
    "    id_map['id'] = data.index.values\n",
    "    \n",
    "    ### define hyper-parameters according to the data set ###\n",
    "    N = data.shape[0] #number of papers\n",
    "    R = reviews.shape[0] #number of reviews\n",
    "    M = len(reviews.rid.unique()) #number of reviewers\n",
    "    T = reviews.score.values.max() #number of score levels\n",
    "    r_per_p = 2 # number of reviews per submission\n",
    "    \n",
    "    ### transform ovservations y ###\n",
    "    y_data = np.ones((R,T))*np.arange(T)+1\n",
    "    y_data = (y_data <= reviews.score.values.reshape(-1,1)).astype(dtype=np.float32)\n",
    "    y_data = torch.from_numpy(y_data.transpose())\n"
   ]
  },
  {
   "cell_type": "code",
   "execution_count": 9,
   "metadata": {},
   "outputs": [],
   "source": [
    "niter = 5000 # number of training iterations\n",
    "local_iter = 1 # number of local iterations\n",
    "theta_scale = .1"
   ]
  },
  {
   "cell_type": "markdown",
   "metadata": {},
   "source": [
    "## Define the Reviewer-Bias IRT model"
   ]
  },
  {
   "cell_type": "code",
   "execution_count": 10,
   "metadata": {},
   "outputs": [],
   "source": [
    "p_bias = Normal(0.,1.) # prior of bias\n",
    "m = reviews.score.mean().astype(np.float32) # empirical mean of all score  \n",
    "p_quality = Normal(loc=m*torch.ones([N]),scale=torch.ones([N])*2.) # prior mean set to empirical mean\n",
    "\n",
    "theta0 = np.array(np.arange(T)+1,ndmin=2,dtype=np.float32)\n",
    "theta0= torch.from_numpy(np.repeat(theta0,M,axis=0).transpose())"
   ]
  },
  {
   "cell_type": "code",
   "execution_count": 11,
   "metadata": {},
   "outputs": [
    {
     "name": "stderr",
     "output_type": "stream",
     "text": [
      "/home/yu/gits/p36env/lib/python3.6/site-packages/ipykernel_launcher.py:2: UserWarning: To copy construct from a tensor, it is recommended to use sourceTensor.clone().detach() or sourceTensor.clone().detach().requires_grad_(True), rather than torch.tensor(sourceTensor).\n",
      "  \n",
      "/home/yu/gits/p36env/lib/python3.6/site-packages/ipykernel_launcher.py:5: UserWarning: To copy construct from a tensor, it is recommended to use sourceTensor.clone().detach() or sourceTensor.clone().detach().requires_grad_(True), rather than torch.tensor(sourceTensor).\n",
      "  \"\"\"\n"
     ]
    }
   ],
   "source": [
    "#b = np.array([reviews.loc[reviews.rid==r,'score'].mean()-np.mean([reviews.loc[reviews.pid==p, 'score'] for p in reviews.loc[reviews.rid==r,'pid']]) for r in np.arange(M)])\n",
    "var_bias_loc = torch.tensor(torch.normal(torch.zeros([M]),torch.ones([M])*0.2),requires_grad=True) #\n",
    "var_bias_scale = torch.ones([M],requires_grad=True)\n",
    "\n",
    "var_quality_loc = torch.tensor(p_quality.sample(),requires_grad=True)\n",
    "var_quality_scale = torch.ones([N],requires_grad=True)"
   ]
  },
  {
   "cell_type": "code",
   "execution_count": null,
   "metadata": {},
   "outputs": [],
   "source": []
  },
  {
   "cell_type": "code",
   "execution_count": 12,
   "metadata": {},
   "outputs": [],
   "source": [
    "def generative_process(var_bias_loc,var_bias_scale,var_quality_loc,var_quality_scale):\n",
    "    q_bias = Normal(loc=var_bias_loc,scale=softplus(var_bias_scale)) # posterior of bias\n",
    "    q_quality = Normal(loc=var_quality_loc, scale=softplus(var_quality_scale)) # posterior of quality\n",
    "\n",
    "    ### it is necessary to use rsample() here for enabling reparamterization trick ###\n",
    "    theta_loc = theta0 + q_bias.rsample()\n",
    "    qs = q_quality.rsample()\n",
    "    \n",
    "    if data_type == 'simulation':\n",
    "        idx = reviews.pid.values\n",
    "    else:\n",
    "        idx = id_map.loc[reviews.pid.values,'id'].values\n",
    "        \n",
    "    quality = qs[torch.tensor(idx,dtype=torch.long)]\n",
    "    \n",
    "    roft = theta_loc[:,torch.tensor(reviews.rid.values,dtype=torch.long)]\n",
    "    d_loc = quality-roft \n",
    "    d_scale = torch.ones_like(d_loc)*(np.sqrt((theta_scale**2)+(q_quality.scale.detach()[idx]**2)))\n",
    "    d = Normal(d_loc, d_scale)\n",
    "    y = Bernoulli(1.-d.cdf(torch.zeros_like(d_loc)))\n",
    "    return y, q_bias, q_quality"
   ]
  },
  {
   "cell_type": "markdown",
   "metadata": {},
   "source": [
    "## Define inference method for the model"
   ]
  },
  {
   "cell_type": "code",
   "execution_count": 13,
   "metadata": {},
   "outputs": [
    {
     "name": "stdout",
     "output_type": "stream",
     "text": [
      "start init hsvi\n",
      "reviewer KLqp\n",
      "paper KLqp\n"
     ]
    }
   ],
   "source": [
    "inference = Hierarchy_SVI(var_dict={'reviewer':[var_bias_loc,var_bias_scale],'paper':[var_quality_loc,var_quality_scale]},learning_rate={'reviewer':0.001,'paper':0.001},train_size=N*r_per_p)"
   ]
  },
  {
   "cell_type": "markdown",
   "metadata": {},
   "source": [
    "## Training process"
   ]
  },
  {
   "cell_type": "code",
   "execution_count": 14,
   "metadata": {
    "scrolled": true
   },
   "outputs": [
    {
     "name": "stderr",
     "output_type": "stream",
     "text": [
      "/home/yu/gits/p36env/lib/python3.6/site-packages/torch/autograd/__init__.py:149: UserWarning: CUDA initialization: The NVIDIA driver on your system is too old (found version 10000). Please update your GPU driver by downloading and installing a new version from the URL: http://www.nvidia.com/Download/index.aspx Alternatively, go to: https://pytorch.org to install a PyTorch version that has been compiled with your version of the CUDA driver. (Triggered internally at  /pytorch/c10/cuda/CUDAFunctions.cpp:115.)\n",
      "  allow_unreachable=True, accumulate_grad=True)  # allow_unreachable flag\n"
     ]
    },
    {
     "name": "stdout",
     "output_type": "stream",
     "text": [
      " loss 1.5927212238311768\n",
      " loss 1.1935703754425049\n",
      " loss 0.7736486196517944\n",
      " loss 0.6971428990364075\n",
      " loss 0.6960224509239197\n",
      " loss 0.5786629915237427\n",
      " loss 0.5250568389892578\n",
      " loss 0.5316608548164368\n",
      " loss 0.5051803588867188\n",
      " loss 0.4727066159248352\n",
      " loss 0.47249045968055725\n"
     ]
    }
   ],
   "source": [
    "for _ in range(niter):  \n",
    "    y, q_bias,q_quality = generative_process(var_bias_loc,var_bias_scale,var_quality_loc,var_quality_scale)\n",
    "    inference.data = {'reviewer':{y:y_data},'paper':{y:y_data}}\n",
    "    inference.latent_vars={'reviewer':{p_bias:q_bias},'paper':{p_quality:q_quality}}\n",
    "    for __ in range(local_iter):\n",
    "        inference.update(scope='paper',retain_graph=True)\n",
    "        \n",
    "    loss = inference.update(scope='reviewer',retain_graph=True)\n",
    "    \n",
    "    if (_+1)%500==0 or _==0:\n",
    "        print(' loss {}'.format(loss))\n",
    "    "
   ]
  },
  {
   "cell_type": "markdown",
   "metadata": {},
   "source": [
    "## Check results"
   ]
  },
  {
   "cell_type": "code",
   "execution_count": 15,
   "metadata": {
    "scrolled": false
   },
   "outputs": [
    {
     "data": {
      "text/html": [
       "<div>\n",
       "<style scoped>\n",
       "    .dataframe tbody tr th:only-of-type {\n",
       "        vertical-align: middle;\n",
       "    }\n",
       "\n",
       "    .dataframe tbody tr th {\n",
       "        vertical-align: top;\n",
       "    }\n",
       "\n",
       "    .dataframe thead th {\n",
       "        text-align: right;\n",
       "    }\n",
       "</style>\n",
       "<table border=\"1\" class=\"dataframe\">\n",
       "  <thead>\n",
       "    <tr style=\"text-align: right;\">\n",
       "      <th></th>\n",
       "      <th>RVID</th>\n",
       "      <th>bias</th>\n",
       "    </tr>\n",
       "  </thead>\n",
       "  <tbody>\n",
       "    <tr>\n",
       "      <th>0</th>\n",
       "      <td>0</td>\n",
       "      <td>-1.299779</td>\n",
       "    </tr>\n",
       "    <tr>\n",
       "      <th>1</th>\n",
       "      <td>1</td>\n",
       "      <td>-0.835793</td>\n",
       "    </tr>\n",
       "    <tr>\n",
       "      <th>2</th>\n",
       "      <td>2</td>\n",
       "      <td>-0.224752</td>\n",
       "    </tr>\n",
       "    <tr>\n",
       "      <th>3</th>\n",
       "      <td>3</td>\n",
       "      <td>-0.693915</td>\n",
       "    </tr>\n",
       "    <tr>\n",
       "      <th>4</th>\n",
       "      <td>4</td>\n",
       "      <td>-1.034683</td>\n",
       "    </tr>\n",
       "    <tr>\n",
       "      <th>5</th>\n",
       "      <td>5</td>\n",
       "      <td>-1.231208</td>\n",
       "    </tr>\n",
       "    <tr>\n",
       "      <th>6</th>\n",
       "      <td>6</td>\n",
       "      <td>-0.842081</td>\n",
       "    </tr>\n",
       "    <tr>\n",
       "      <th>7</th>\n",
       "      <td>7</td>\n",
       "      <td>-1.179815</td>\n",
       "    </tr>\n",
       "    <tr>\n",
       "      <th>8</th>\n",
       "      <td>8</td>\n",
       "      <td>-0.694147</td>\n",
       "    </tr>\n",
       "    <tr>\n",
       "      <th>9</th>\n",
       "      <td>9</td>\n",
       "      <td>-1.068105</td>\n",
       "    </tr>\n",
       "    <tr>\n",
       "      <th>10</th>\n",
       "      <td>10</td>\n",
       "      <td>-0.335952</td>\n",
       "    </tr>\n",
       "    <tr>\n",
       "      <th>11</th>\n",
       "      <td>11</td>\n",
       "      <td>-1.558434</td>\n",
       "    </tr>\n",
       "    <tr>\n",
       "      <th>12</th>\n",
       "      <td>12</td>\n",
       "      <td>-0.335583</td>\n",
       "    </tr>\n",
       "    <tr>\n",
       "      <th>13</th>\n",
       "      <td>13</td>\n",
       "      <td>-1.010155</td>\n",
       "    </tr>\n",
       "  </tbody>\n",
       "</table>\n",
       "</div>"
      ],
      "text/plain": [
       "    RVID      bias\n",
       "0      0 -1.299779\n",
       "1      1 -0.835793\n",
       "2      2 -0.224752\n",
       "3      3 -0.693915\n",
       "4      4 -1.034683\n",
       "5      5 -1.231208\n",
       "6      6 -0.842081\n",
       "7      7 -1.179815\n",
       "8      8 -0.694147\n",
       "9      9 -1.068105\n",
       "10    10 -0.335952\n",
       "11    11 -1.558434\n",
       "12    12 -0.335583\n",
       "13    13 -1.010155"
      ]
     },
     "execution_count": 15,
     "metadata": {},
     "output_type": "execute_result"
    }
   ],
   "source": [
    "### inferred bias of each reviewer ###\n",
    "rbias = q_bias.loc.detach()\n",
    "rb = pd.DataFrame(columns=['RVID','bias'])\n",
    "rb.RVID = np.arange(M)\n",
    "rb.bias = rbias\n",
    "if data_type == 'simulation':\n",
    "    rb['true_bias'] = true_bias\n",
    "rb"
   ]
  },
  {
   "cell_type": "code",
   "execution_count": 16,
   "metadata": {},
   "outputs": [
    {
     "data": {
      "text/html": [
       "<div>\n",
       "<style scoped>\n",
       "    .dataframe tbody tr th:only-of-type {\n",
       "        vertical-align: middle;\n",
       "    }\n",
       "\n",
       "    .dataframe tbody tr th {\n",
       "        vertical-align: top;\n",
       "    }\n",
       "\n",
       "    .dataframe thead th {\n",
       "        text-align: right;\n",
       "    }\n",
       "</style>\n",
       "<table border=\"1\" class=\"dataframe\">\n",
       "  <thead>\n",
       "    <tr style=\"text-align: right;\">\n",
       "      <th></th>\n",
       "      <th>PID</th>\n",
       "      <th>quality</th>\n",
       "      <th>avg_score</th>\n",
       "    </tr>\n",
       "  </thead>\n",
       "  <tbody>\n",
       "    <tr>\n",
       "      <th>0</th>\n",
       "      <td>0</td>\n",
       "      <td>2.712328</td>\n",
       "      <td>2.5</td>\n",
       "    </tr>\n",
       "    <tr>\n",
       "      <th>1</th>\n",
       "      <td>1</td>\n",
       "      <td>3.186133</td>\n",
       "      <td>3</td>\n",
       "    </tr>\n",
       "    <tr>\n",
       "      <th>2</th>\n",
       "      <td>2</td>\n",
       "      <td>3.215267</td>\n",
       "      <td>3</td>\n",
       "    </tr>\n",
       "    <tr>\n",
       "      <th>3</th>\n",
       "      <td>3</td>\n",
       "      <td>2.922653</td>\n",
       "      <td>2.5</td>\n",
       "    </tr>\n",
       "    <tr>\n",
       "      <th>4</th>\n",
       "      <td>5</td>\n",
       "      <td>2.484223</td>\n",
       "      <td>2.5</td>\n",
       "    </tr>\n",
       "  </tbody>\n",
       "</table>\n",
       "</div>"
      ],
      "text/plain": [
       "   PID   quality avg_score\n",
       "0    0  2.712328       2.5\n",
       "1    1  3.186133         3\n",
       "2    2  3.215267         3\n",
       "3    3  2.922653       2.5\n",
       "4    5  2.484223       2.5"
      ]
     },
     "execution_count": 16,
     "metadata": {},
     "output_type": "execute_result"
    }
   ],
   "source": [
    "### inferred quality of papers ###\n",
    "quality=q_quality.loc.detach()\n",
    "\n",
    "if data_type == 'simulation':\n",
    "    qlt = pd.DataFrame(columns=['PID','quality','true_quality'])\n",
    "    qlt.PID = np.arange(N)\n",
    "    qlt.true_quality = true_quality\n",
    "else:\n",
    "    qlt = pd.DataFrame(columns=['PID','quality','avg_score'])\n",
    "    qlt.PID = id_map.index.values\n",
    "qlt.quality = quality\n",
    "### compare the quality with average score ###\n",
    "for i in qlt.PID:\n",
    "    qlt.loc[qlt.PID==i,'avg_score'] = reviews.loc[reviews.pid==i,'score'].mean()\n",
    "\n",
    "qlt.head()"
   ]
  },
  {
   "cell_type": "code",
   "execution_count": null,
   "metadata": {},
   "outputs": [],
   "source": []
  },
  {
   "cell_type": "code",
   "execution_count": null,
   "metadata": {},
   "outputs": [],
   "source": []
  }
 ],
 "metadata": {
  "kernelspec": {
   "display_name": "p36env",
   "language": "python",
   "name": "p36env"
  },
  "language_info": {
   "codemirror_mode": {
    "name": "ipython",
    "version": 3
   },
   "file_extension": ".py",
   "mimetype": "text/x-python",
   "name": "python",
   "nbconvert_exporter": "python",
   "pygments_lexer": "ipython3",
   "version": "3.6.6"
  }
 },
 "nbformat": 4,
 "nbformat_minor": 2
}

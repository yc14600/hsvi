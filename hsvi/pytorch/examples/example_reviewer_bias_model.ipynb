{
 "cells": [
  {
   "cell_type": "code",
   "execution_count": 1,
   "metadata": {},
   "outputs": [],
   "source": [
    "import numpy as np\n",
    "import scipy as sp\n",
    "import pandas as pd\n",
    "from sys import path\n",
    "import torch"
   ]
  },
  {
   "cell_type": "code",
   "execution_count": 2,
   "metadata": {},
   "outputs": [],
   "source": [
    "from hsvi.pytorch import Hierarchy_SVI\n",
    "from torch.distributions import Normal, Bernoulli"
   ]
  },
  {
   "cell_type": "code",
   "execution_count": 3,
   "metadata": {},
   "outputs": [
    {
     "data": {
      "text/plain": [
       "<torch.autograd.anomaly_mode.set_detect_anomaly at 0x7f7f0d6d0c88>"
      ]
     },
     "execution_count": 3,
     "metadata": {},
     "output_type": "execute_result"
    }
   ],
   "source": [
    "torch.autograd.set_detect_anomaly(True)"
   ]
  },
  {
   "cell_type": "code",
   "execution_count": 4,
   "metadata": {},
   "outputs": [
    {
     "data": {
      "text/plain": [
       "<torch._C.Generator at 0x7f7fd2376378>"
      ]
     },
     "execution_count": 4,
     "metadata": {},
     "output_type": "execute_result"
    }
   ],
   "source": [
    "torch.random.manual_seed(0)"
   ]
  },
  {
   "cell_type": "code",
   "execution_count": 5,
   "metadata": {},
   "outputs": [],
   "source": [
    "def softplus(x):\n",
    "    return torch.log(torch.exp(x)+1.)"
   ]
  },
  {
   "cell_type": "code",
   "execution_count": null,
   "metadata": {},
   "outputs": [],
   "source": []
  },
  {
   "cell_type": "markdown",
   "metadata": {},
   "source": [
    "## Load and preprocess data"
   ]
  },
  {
   "cell_type": "code",
   "execution_count": 6,
   "metadata": {},
   "outputs": [
    {
     "data": {
      "text/html": [
       "<div>\n",
       "<style scoped>\n",
       "    .dataframe tbody tr th:only-of-type {\n",
       "        vertical-align: middle;\n",
       "    }\n",
       "\n",
       "    .dataframe tbody tr th {\n",
       "        vertical-align: top;\n",
       "    }\n",
       "\n",
       "    .dataframe thead th {\n",
       "        text-align: right;\n",
       "    }\n",
       "</style>\n",
       "<table border=\"1\" class=\"dataframe\">\n",
       "  <thead>\n",
       "    <tr style=\"text-align: right;\">\n",
       "      <th></th>\n",
       "      <th>PaperID</th>\n",
       "      <th>Rev1ID</th>\n",
       "      <th>Rev1Score</th>\n",
       "      <th>Rev2ID</th>\n",
       "      <th>Rev2Score</th>\n",
       "    </tr>\n",
       "  </thead>\n",
       "  <tbody>\n",
       "    <tr>\n",
       "      <th>0</th>\n",
       "      <td>p1</td>\n",
       "      <td>r3</td>\n",
       "      <td>2</td>\n",
       "      <td>r10</td>\n",
       "      <td>3</td>\n",
       "    </tr>\n",
       "    <tr>\n",
       "      <th>1</th>\n",
       "      <td>p2</td>\n",
       "      <td>r3</td>\n",
       "      <td>3</td>\n",
       "      <td>r12</td>\n",
       "      <td>3</td>\n",
       "    </tr>\n",
       "    <tr>\n",
       "      <th>2</th>\n",
       "      <td>p3</td>\n",
       "      <td>r3</td>\n",
       "      <td>2</td>\n",
       "      <td>r10</td>\n",
       "      <td>4</td>\n",
       "    </tr>\n",
       "    <tr>\n",
       "      <th>3</th>\n",
       "      <td>p4</td>\n",
       "      <td>r3</td>\n",
       "      <td>2</td>\n",
       "      <td>r13</td>\n",
       "      <td>3</td>\n",
       "    </tr>\n",
       "    <tr>\n",
       "      <th>4</th>\n",
       "      <td>p6</td>\n",
       "      <td>r4</td>\n",
       "      <td>2</td>\n",
       "      <td>r6</td>\n",
       "      <td>3</td>\n",
       "    </tr>\n",
       "  </tbody>\n",
       "</table>\n",
       "</div>"
      ],
      "text/plain": [
       "  PaperID Rev1ID  Rev1Score Rev2ID  Rev2Score\n",
       "0      p1     r3          2    r10          3\n",
       "1      p2     r3          3    r12          3\n",
       "2      p3     r3          2    r10          4\n",
       "3      p4     r3          2    r13          3\n",
       "4      p6     r4          2     r6          3"
      ]
     },
     "execution_count": 6,
     "metadata": {},
     "output_type": "execute_result"
    }
   ],
   "source": [
    "data = pd.read_csv('./review_data.csv')\n",
    "data.head()"
   ]
  },
  {
   "cell_type": "code",
   "execution_count": 7,
   "metadata": {},
   "outputs": [
    {
     "data": {
      "text/html": [
       "<div>\n",
       "<style scoped>\n",
       "    .dataframe tbody tr th:only-of-type {\n",
       "        vertical-align: middle;\n",
       "    }\n",
       "\n",
       "    .dataframe tbody tr th {\n",
       "        vertical-align: top;\n",
       "    }\n",
       "\n",
       "    .dataframe thead th {\n",
       "        text-align: right;\n",
       "    }\n",
       "</style>\n",
       "<table border=\"1\" class=\"dataframe\">\n",
       "  <thead>\n",
       "    <tr style=\"text-align: right;\">\n",
       "      <th></th>\n",
       "      <th>pid</th>\n",
       "      <th>rid</th>\n",
       "      <th>score</th>\n",
       "    </tr>\n",
       "  </thead>\n",
       "  <tbody>\n",
       "    <tr>\n",
       "      <th>0</th>\n",
       "      <td>0</td>\n",
       "      <td>2</td>\n",
       "      <td>2</td>\n",
       "    </tr>\n",
       "    <tr>\n",
       "      <th>1</th>\n",
       "      <td>0</td>\n",
       "      <td>9</td>\n",
       "      <td>3</td>\n",
       "    </tr>\n",
       "    <tr>\n",
       "      <th>2</th>\n",
       "      <td>1</td>\n",
       "      <td>2</td>\n",
       "      <td>3</td>\n",
       "    </tr>\n",
       "    <tr>\n",
       "      <th>3</th>\n",
       "      <td>1</td>\n",
       "      <td>11</td>\n",
       "      <td>3</td>\n",
       "    </tr>\n",
       "    <tr>\n",
       "      <th>4</th>\n",
       "      <td>2</td>\n",
       "      <td>2</td>\n",
       "      <td>2</td>\n",
       "    </tr>\n",
       "  </tbody>\n",
       "</table>\n",
       "</div>"
      ],
      "text/plain": [
       "   pid  rid score\n",
       "0    0    2     2\n",
       "1    0    9     3\n",
       "2    1    2     3\n",
       "3    1   11     3\n",
       "4    2    2     2"
      ]
     },
     "execution_count": 7,
     "metadata": {},
     "output_type": "execute_result"
    }
   ],
   "source": [
    "### form each entry as paper ID, reviewer ID, and score given by the reviewer to the paper ###\n",
    "reviews = pd.DataFrame(columns=['pid','rid','score'])\n",
    "reviews.pid = np.repeat(data.PaperID.values,2)\n",
    "for s in data.PaperID.values:\n",
    "    reviews.loc[reviews.pid==s,'rid'] = data.loc[data.PaperID==s,['Rev1ID','Rev2ID']].values\n",
    "    reviews.loc[reviews.pid==s,'score'] = data.loc[data.PaperID==s,['Rev1Score','Rev2Score']].values\n",
    "\n",
    "### transform paper ID and reviewer ID to numbers ###\n",
    "reviews.pid = reviews.pid.map(lambda x: int(x[1:])-1)\n",
    "reviews.rid = reviews.rid.map(lambda x: int(x[1:])-1)\n",
    "\n",
    "reviews.head()    "
   ]
  },
  {
   "cell_type": "code",
   "execution_count": 8,
   "metadata": {},
   "outputs": [
    {
     "data": {
      "text/html": [
       "<div>\n",
       "<style scoped>\n",
       "    .dataframe tbody tr th:only-of-type {\n",
       "        vertical-align: middle;\n",
       "    }\n",
       "\n",
       "    .dataframe tbody tr th {\n",
       "        vertical-align: top;\n",
       "    }\n",
       "\n",
       "    .dataframe thead th {\n",
       "        text-align: right;\n",
       "    }\n",
       "</style>\n",
       "<table border=\"1\" class=\"dataframe\">\n",
       "  <thead>\n",
       "    <tr style=\"text-align: right;\">\n",
       "      <th></th>\n",
       "      <th>id</th>\n",
       "    </tr>\n",
       "    <tr>\n",
       "      <th>PaperID</th>\n",
       "      <th></th>\n",
       "    </tr>\n",
       "  </thead>\n",
       "  <tbody>\n",
       "    <tr>\n",
       "      <th>0</th>\n",
       "      <td>0</td>\n",
       "    </tr>\n",
       "    <tr>\n",
       "      <th>1</th>\n",
       "      <td>1</td>\n",
       "    </tr>\n",
       "    <tr>\n",
       "      <th>2</th>\n",
       "      <td>2</td>\n",
       "    </tr>\n",
       "    <tr>\n",
       "      <th>3</th>\n",
       "      <td>3</td>\n",
       "    </tr>\n",
       "    <tr>\n",
       "      <th>5</th>\n",
       "      <td>4</td>\n",
       "    </tr>\n",
       "    <tr>\n",
       "      <th>...</th>\n",
       "      <td>...</td>\n",
       "    </tr>\n",
       "    <tr>\n",
       "      <th>228</th>\n",
       "      <td>214</td>\n",
       "    </tr>\n",
       "    <tr>\n",
       "      <th>229</th>\n",
       "      <td>215</td>\n",
       "    </tr>\n",
       "    <tr>\n",
       "      <th>230</th>\n",
       "      <td>216</td>\n",
       "    </tr>\n",
       "    <tr>\n",
       "      <th>231</th>\n",
       "      <td>217</td>\n",
       "    </tr>\n",
       "    <tr>\n",
       "      <th>232</th>\n",
       "      <td>218</td>\n",
       "    </tr>\n",
       "  </tbody>\n",
       "</table>\n",
       "<p>219 rows × 1 columns</p>\n",
       "</div>"
      ],
      "text/plain": [
       "          id\n",
       "PaperID     \n",
       "0          0\n",
       "1          1\n",
       "2          2\n",
       "3          3\n",
       "5          4\n",
       "...      ...\n",
       "228      214\n",
       "229      215\n",
       "230      216\n",
       "231      217\n",
       "232      218\n",
       "\n",
       "[219 rows x 1 columns]"
      ]
     },
     "execution_count": 8,
     "metadata": {},
     "output_type": "execute_result"
    }
   ],
   "source": [
    "### generate mapping from pid to concecutive ID ###\n",
    "pid = data.PaperID.map(lambda x: int(x[1:])-1)\n",
    "id_map = pd.DataFrame(index=pid)\n",
    "id_map['id'] = data.index.values\n",
    "id_map"
   ]
  },
  {
   "cell_type": "code",
   "execution_count": 9,
   "metadata": {},
   "outputs": [],
   "source": [
    "### define hyper-parameters according to the data set ###\n",
    "S = data.shape[0] #number of submissions\n",
    "R = reviews.shape[0] #number of reviews\n",
    "J = len(reviews.rid.unique()) #number of reviewers\n",
    "T = reviews.score.values.max() #number of score levels\n",
    "r_per_s = 2 # number of reviews per submission"
   ]
  },
  {
   "cell_type": "code",
   "execution_count": 10,
   "metadata": {},
   "outputs": [],
   "source": [
    "niter = 500 # number of training iterations\n",
    "local_iter = 1 # number of local iterations\n",
    "theta_scale = 1.\n",
    "score_scale = 0.5"
   ]
  },
  {
   "cell_type": "markdown",
   "metadata": {},
   "source": [
    "## Define the Reviewer-Bias IRT model"
   ]
  },
  {
   "cell_type": "code",
   "execution_count": 11,
   "metadata": {},
   "outputs": [
    {
     "data": {
      "text/plain": [
       "3.13242"
      ]
     },
     "execution_count": 11,
     "metadata": {},
     "output_type": "execute_result"
    }
   ],
   "source": [
    "bias = Normal(0.,0.5) # prior of bias\n",
    "m = reviews.score.mean().astype(np.float32) # empirical mean of score level \n",
    "quality = Normal(loc=torch.ones([S])*m,scale=torch.ones([S])) # prior mean set to empirical mean\n",
    "\n",
    "theta0 = np.array(np.arange(T)+1,ndmin=2,dtype=np.float32)\n",
    "theta0= torch.from_numpy(np.repeat(theta0,J,axis=0).transpose())\n",
    "\n",
    "m"
   ]
  },
  {
   "cell_type": "code",
   "execution_count": 12,
   "metadata": {},
   "outputs": [
    {
     "name": "stderr",
     "output_type": "stream",
     "text": [
      "/home/yu/gits/p36env/lib/python3.6/site-packages/ipykernel_launcher.py:1: UserWarning: To copy construct from a tensor, it is recommended to use sourceTensor.clone().detach() or sourceTensor.clone().detach().requires_grad_(True), rather than torch.tensor(sourceTensor).\n",
      "  \"\"\"Entry point for launching an IPython kernel.\n",
      "/home/yu/gits/p36env/lib/python3.6/site-packages/ipykernel_launcher.py:5: UserWarning: To copy construct from a tensor, it is recommended to use sourceTensor.clone().detach() or sourceTensor.clone().detach().requires_grad_(True), rather than torch.tensor(sourceTensor).\n",
      "  \"\"\"\n"
     ]
    }
   ],
   "source": [
    "var_bias_loc = torch.tensor(torch.normal(torch.zeros(J),torch.ones(J)*0.1),requires_grad=True) #torch.randn(J,requires_grad=True)\n",
    "var_bias_scale = torch.ones(J,requires_grad=True)\n",
    "#q_bias = Normal(loc=var_bias_loc,scale=softplus(var_bias_scale)*0.1) # posterior of bias\n",
    "\n",
    "var_quality_loc = torch.tensor(quality.sample(),requires_grad=True)\n",
    "var_quality_scale = torch.ones([S],requires_grad=True)\n",
    "#q_quality = Normal(loc=var_quality_loc, scale=softplus(var_quality_scale))\n",
    " # generate theta by bias"
   ]
  },
  {
   "cell_type": "code",
   "execution_count": 13,
   "metadata": {},
   "outputs": [],
   "source": [
    "def generative_process(var_bias_loc,var_bias_scale,var_quality_loc,var_quality_scale):\n",
    "    q_bias = Normal(loc=var_bias_loc,scale=softplus(var_bias_scale)) # posterior of bias\n",
    "    q_quality = Normal(loc=var_quality_loc, scale=softplus(var_quality_scale))\n",
    "\n",
    "    theta_loc = theta0+q_bias.rsample()\n",
    "    qs = q_quality.rsample()\n",
    "    score_quality = qs[torch.tensor(id_map.loc[reviews.pid.values,'id'].values,dtype=torch.long)]\n",
    "    \n",
    "    roft = theta_loc[:,torch.tensor(reviews.rid.values,dtype=torch.long)]\n",
    "    d_loc = score_quality-roft \n",
    "    d_scale = torch.ones_like(d_loc)*(np.sqrt((theta_scale**2)+(score_scale**2)))\n",
    "    d = Normal(d_loc, d_scale)\n",
    "    y = Bernoulli(1.-d.cdf(torch.zeros_like(d_loc)))\n",
    "    #y = Bernoulli(1.- normal_cdf(d_loc,d_scale,torch.zeros_like(d_loc)))\n",
    "    return y, q_bias, q_quality"
   ]
  },
  {
   "cell_type": "code",
   "execution_count": null,
   "metadata": {},
   "outputs": [],
   "source": []
  },
  {
   "cell_type": "code",
   "execution_count": 14,
   "metadata": {},
   "outputs": [
    {
     "data": {
      "text/plain": [
       "tensor([[1., 1., 1., 1., 1.],\n",
       "        [1., 1., 1., 1., 1.],\n",
       "        [0., 1., 1., 1., 0.],\n",
       "        [0., 0., 0., 0., 0.]])"
      ]
     },
     "execution_count": 14,
     "metadata": {},
     "output_type": "execute_result"
    }
   ],
   "source": [
    "### generate ovservations of y ###\n",
    "y_data = np.ones((R,T))*np.arange(T)+1\n",
    "y_data = (y_data <= reviews.score.values.reshape(-1,1)).astype(dtype=np.float32)\n",
    "y_data = torch.from_numpy(y_data.transpose())\n",
    "y_data[:,:5]"
   ]
  },
  {
   "cell_type": "markdown",
   "metadata": {},
   "source": [
    "## Define inference method for the model"
   ]
  },
  {
   "cell_type": "code",
   "execution_count": 15,
   "metadata": {},
   "outputs": [
    {
     "name": "stdout",
     "output_type": "stream",
     "text": [
      "start init hsvi\n",
      "reviewer KLqp\n",
      "paper KLqp\n"
     ]
    }
   ],
   "source": [
    "inference = Hierarchy_SVI(var_dict={'reviewer':[var_bias_loc,var_bias_scale],'paper':[var_quality_loc,var_quality_scale]},learning_rate={'reviewer':0.002,'paper':0.002})"
   ]
  },
  {
   "cell_type": "markdown",
   "metadata": {},
   "source": [
    "## Training process"
   ]
  },
  {
   "cell_type": "code",
   "execution_count": 16,
   "metadata": {
    "scrolled": true
   },
   "outputs": [
    {
     "name": "stderr",
     "output_type": "stream",
     "text": [
      "/home/yu/gits/p36env/lib/python3.6/site-packages/torch/autograd/__init__.py:149: UserWarning: CUDA initialization: The NVIDIA driver on your system is too old (found version 10000). Please update your GPU driver by downloading and installing a new version from the URL: http://www.nvidia.com/Download/index.aspx Alternatively, go to: https://pytorch.org to install a PyTorch version that has been compiled with your version of the CUDA driver. (Triggered internally at  /pytorch/c10/cuda/CUDAFunctions.cpp:115.)\n",
      "  allow_unreachable=True, accumulate_grad=True)  # allow_unreachable flag\n"
     ]
    },
    {
     "name": "stdout",
     "output_type": "stream",
     "text": [
      " loss 1.4204634428024292\n",
      " loss 0.9012758731842041\n",
      " loss 1.079142451286316\n",
      " loss 0.7594789266586304\n",
      " loss 0.641215980052948\n",
      " loss 0.7428992390632629\n"
     ]
    }
   ],
   "source": [
    "for _ in range(niter):  \n",
    "    y, q_bias,q_quality = generative_process(var_bias_loc,var_bias_scale,var_quality_loc,var_quality_scale)\n",
    "    inference.data = {'reviewer':{y:y_data},'paper':{y:y_data}}\n",
    "    inference.latent_vars={'reviewer':{bias:q_bias},'paper':{quality:q_quality}}\n",
    "    for __ in range(local_iter):\n",
    "        inference.update(scope='paper',retain_graph=True)\n",
    "        \n",
    "    loss = inference.update(scope='reviewer',retain_graph=True)\n",
    "    \n",
    "    if (_+1)%100==0 or _==0:\n",
    "        print(' loss {}'.format(loss))\n",
    "    "
   ]
  },
  {
   "cell_type": "markdown",
   "metadata": {},
   "source": [
    "## Check results"
   ]
  },
  {
   "cell_type": "code",
   "execution_count": 17,
   "metadata": {
    "scrolled": true
   },
   "outputs": [
    {
     "data": {
      "text/html": [
       "<div>\n",
       "<style scoped>\n",
       "    .dataframe tbody tr th:only-of-type {\n",
       "        vertical-align: middle;\n",
       "    }\n",
       "\n",
       "    .dataframe tbody tr th {\n",
       "        vertical-align: top;\n",
       "    }\n",
       "\n",
       "    .dataframe thead th {\n",
       "        text-align: right;\n",
       "    }\n",
       "</style>\n",
       "<table border=\"1\" class=\"dataframe\">\n",
       "  <thead>\n",
       "    <tr style=\"text-align: right;\">\n",
       "      <th></th>\n",
       "      <th>RVID</th>\n",
       "      <th>bias</th>\n",
       "    </tr>\n",
       "  </thead>\n",
       "  <tbody>\n",
       "    <tr>\n",
       "      <th>0</th>\n",
       "      <td>6</td>\n",
       "      <td>-0.676996</td>\n",
       "    </tr>\n",
       "    <tr>\n",
       "      <th>1</th>\n",
       "      <td>12</td>\n",
       "      <td>-0.611843</td>\n",
       "    </tr>\n",
       "    <tr>\n",
       "      <th>2</th>\n",
       "      <td>5</td>\n",
       "      <td>-0.583088</td>\n",
       "    </tr>\n",
       "    <tr>\n",
       "      <th>3</th>\n",
       "      <td>10</td>\n",
       "      <td>-0.532971</td>\n",
       "    </tr>\n",
       "    <tr>\n",
       "      <th>4</th>\n",
       "      <td>8</td>\n",
       "      <td>-0.505313</td>\n",
       "    </tr>\n",
       "    <tr>\n",
       "      <th>5</th>\n",
       "      <td>1</td>\n",
       "      <td>-0.456541</td>\n",
       "    </tr>\n",
       "    <tr>\n",
       "      <th>6</th>\n",
       "      <td>14</td>\n",
       "      <td>-0.444272</td>\n",
       "    </tr>\n",
       "    <tr>\n",
       "      <th>7</th>\n",
       "      <td>7</td>\n",
       "      <td>-0.432968</td>\n",
       "    </tr>\n",
       "    <tr>\n",
       "      <th>8</th>\n",
       "      <td>2</td>\n",
       "      <td>-0.410278</td>\n",
       "    </tr>\n",
       "    <tr>\n",
       "      <th>9</th>\n",
       "      <td>9</td>\n",
       "      <td>-0.329205</td>\n",
       "    </tr>\n",
       "    <tr>\n",
       "      <th>10</th>\n",
       "      <td>4</td>\n",
       "      <td>-0.305660</td>\n",
       "    </tr>\n",
       "    <tr>\n",
       "      <th>11</th>\n",
       "      <td>13</td>\n",
       "      <td>-0.256227</td>\n",
       "    </tr>\n",
       "    <tr>\n",
       "      <th>12</th>\n",
       "      <td>3</td>\n",
       "      <td>-0.183143</td>\n",
       "    </tr>\n",
       "    <tr>\n",
       "      <th>13</th>\n",
       "      <td>11</td>\n",
       "      <td>-0.166950</td>\n",
       "    </tr>\n",
       "  </tbody>\n",
       "</table>\n",
       "</div>"
      ],
      "text/plain": [
       "    RVID      bias\n",
       "0      6 -0.676996\n",
       "1     12 -0.611843\n",
       "2      5 -0.583088\n",
       "3     10 -0.532971\n",
       "4      8 -0.505313\n",
       "5      1 -0.456541\n",
       "6     14 -0.444272\n",
       "7      7 -0.432968\n",
       "8      2 -0.410278\n",
       "9      9 -0.329205\n",
       "10     4 -0.305660\n",
       "11    13 -0.256227\n",
       "12     3 -0.183143\n",
       "13    11 -0.166950"
      ]
     },
     "execution_count": 17,
     "metadata": {},
     "output_type": "execute_result"
    }
   ],
   "source": [
    "### inferred bias of each reviewer ###\n",
    "rbias = q_bias.loc.detach()\n",
    "rb = pd.DataFrame(columns=['RVID','bias'])\n",
    "rb.RVID = np.argsort(rbias)+1\n",
    "rb.bias = np.sort(rbias)\n",
    "rb"
   ]
  },
  {
   "cell_type": "code",
   "execution_count": 18,
   "metadata": {},
   "outputs": [
    {
     "data": {
      "text/html": [
       "<div>\n",
       "<style scoped>\n",
       "    .dataframe tbody tr th:only-of-type {\n",
       "        vertical-align: middle;\n",
       "    }\n",
       "\n",
       "    .dataframe tbody tr th {\n",
       "        vertical-align: top;\n",
       "    }\n",
       "\n",
       "    .dataframe thead th {\n",
       "        text-align: right;\n",
       "    }\n",
       "</style>\n",
       "<table border=\"1\" class=\"dataframe\">\n",
       "  <thead>\n",
       "    <tr style=\"text-align: right;\">\n",
       "      <th></th>\n",
       "      <th>PID</th>\n",
       "      <th>quality</th>\n",
       "      <th>avg_score</th>\n",
       "    </tr>\n",
       "  </thead>\n",
       "  <tbody>\n",
       "    <tr>\n",
       "      <th>0</th>\n",
       "      <td>1</td>\n",
       "      <td>3.127676</td>\n",
       "      <td>2.5</td>\n",
       "    </tr>\n",
       "    <tr>\n",
       "      <th>1</th>\n",
       "      <td>2</td>\n",
       "      <td>3.604394</td>\n",
       "      <td>3</td>\n",
       "    </tr>\n",
       "    <tr>\n",
       "      <th>2</th>\n",
       "      <td>3</td>\n",
       "      <td>3.241147</td>\n",
       "      <td>3</td>\n",
       "    </tr>\n",
       "    <tr>\n",
       "      <th>3</th>\n",
       "      <td>4</td>\n",
       "      <td>2.988182</td>\n",
       "      <td>2.5</td>\n",
       "    </tr>\n",
       "    <tr>\n",
       "      <th>4</th>\n",
       "      <td>6</td>\n",
       "      <td>2.806070</td>\n",
       "      <td>2.5</td>\n",
       "    </tr>\n",
       "  </tbody>\n",
       "</table>\n",
       "</div>"
      ],
      "text/plain": [
       "   PID   quality avg_score\n",
       "0    1  3.127676       2.5\n",
       "1    2  3.604394         3\n",
       "2    3  3.241147         3\n",
       "3    4  2.988182       2.5\n",
       "4    6  2.806070       2.5"
      ]
     },
     "execution_count": 18,
     "metadata": {},
     "output_type": "execute_result"
    }
   ],
   "source": [
    "### inferred quality of papers ###\n",
    "quality=q_quality.loc.detach()\n",
    "qlt = pd.DataFrame(columns=['PID','quality','avg_score'])\n",
    "qlt.PID = id_map.index.values\n",
    "qlt.quality = quality\n",
    "### compare the quality with average score ###\n",
    "for i in qlt.PID:\n",
    "    qlt.loc[qlt.PID==i,'avg_score'] = reviews.loc[reviews.pid==i,'score'].mean()\n",
    "qlt.PID = qlt.PID+1\n",
    "qlt.head()"
   ]
  },
  {
   "cell_type": "code",
   "execution_count": null,
   "metadata": {},
   "outputs": [],
   "source": []
  }
 ],
 "metadata": {
  "kernelspec": {
   "display_name": "p36env",
   "language": "python",
   "name": "p36env"
  },
  "language_info": {
   "codemirror_mode": {
    "name": "ipython",
    "version": 3
   },
   "file_extension": ".py",
   "mimetype": "text/x-python",
   "name": "python",
   "nbconvert_exporter": "python",
   "pygments_lexer": "ipython3",
   "version": "3.6.6"
  }
 },
 "nbformat": 4,
 "nbformat_minor": 2
}
